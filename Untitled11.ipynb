{
  "nbformat": 4,
  "nbformat_minor": 0,
  "metadata": {
    "colab": {
      "name": "Untitled11.ipynb",
      "provenance": [],
      "collapsed_sections": []
    },
    "kernelspec": {
      "name": "python3",
      "display_name": "Python 3"
    },
    "language_info": {
      "name": "python"
    }
  },
  "cells": [
    {
      "cell_type": "code",
      "metadata": {
        "id": "IEWPVUGVE1fM"
      },
      "source": [
        "#Capture User input  on keyboard-input()\n",
        "Name=input(\"Enter first and last name\")\n",
        "Country=input(\"Your country of origin\")\n",
        "Profession=input(\"Enter the nature of your current job\")\n",
        "Email=input(\"Enter email address \")\n",
        "#Does not have to real email address\n",
        "Phone=input(\"Enter your phone number\")\n",
        "#Does not have to be real phone number\n",
        "City=input(\"Enter your city of residence\")\n",
        "#Does not have to be your current city\n",
        "Address=input(\"Enter your Mailing address/Physical address\")\n",
        "#Does not have to be your real address\n",
        "print(f\"Name: {Name}\")\n",
        "print(f\"Country: {Country}\")\n",
        "print(f\"Professsion:{Profession}\")\n",
        "print(f\"Email:{Email}\")\n",
        "print(f\"Phone:{Phone}\")\n",
        "print(f\"City:{City}\")\n",
        "print(f\"Address:{Address}\")\n",
        "\n",
        "\n"
      ],
      "execution_count": null,
      "outputs": []
    }
  ]
}